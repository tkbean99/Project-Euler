{
 "cells": [
  {
   "cell_type": "markdown",
   "metadata": {},
   "source": [
    "# Project Euler Problem 1- Multiples of 3 and 5#"
   ]
  },
  {
   "cell_type": "code",
   "execution_count": 27,
   "metadata": {},
   "outputs": [
    {
     "data": {
      "text/plain": [
       "'\\nIf we list all the natural numbers below 10 that are multiples of 3 or 5, we get 3, 5, 6 and 9. The sum of these multiples is 23.\\nFind the sum of all the multiples of 3 or 5 below 1000.\\n\\n'"
      ]
     },
     "execution_count": 27,
     "metadata": {},
     "output_type": "execute_result"
    }
   ],
   "source": [
    "'''\n",
    "If we list all the natural numbers below 10 that are multiples of 3 or 5, we get 3, 5, 6 and 9. The sum of these multiples is 23.\n",
    "Find the sum of all the multiples of 3 or 5 below 1000.\n",
    "\n",
    "'''"
   ]
  },
  {
   "cell_type": "code",
   "execution_count": 28,
   "metadata": {},
   "outputs": [],
   "source": [
    "# General idea is to sum all multiples of 3 and all multiples of 5 below a number 'n', \n",
    "# then subtract the sum of all numbers that are multiples of 15 below 'n'\n",
    "\n",
    "# The3List is a list of multiples of 3 below 'n'\n",
    "# The5List is a list of multiples of 5 below 'n'\n",
    "# The15List is a list of multiples of 15 below 'n'\n",
    "#Let 'n' be 10\n",
    "\n",
    "n=10\n",
    "i=0\n",
    "j=0\n",
    "k=0\n",
    "\n",
    "The3List=[i for i in range(1,n) if i%3==0]\n",
    "The5List=[j for j in range(1,n) if j%5==0]\n",
    "The15List=[k for k in range(1,n) if k%15==0]"
   ]
  },
  {
   "cell_type": "code",
   "execution_count": 29,
   "metadata": {},
   "outputs": [
    {
     "name": "stdout",
     "output_type": "stream",
     "text": [
      "23\n"
     ]
    }
   ],
   "source": [
    "# Now, we find the sum in each list\n",
    "\n",
    "The3ListTotal = sum(The3List)\n",
    "The5ListTotal = sum(The5List)\n",
    "The15ListTotal = sum(The15List)\n",
    "\n",
    "# Refer back to the general idea\n",
    "FinalSolution = The3ListTotal + The5ListTotal - The15ListTotal\n",
    "print(FinalSolution)"
   ]
  },
  {
   "cell_type": "code",
   "execution_count": 31,
   "metadata": {},
   "outputs": [],
   "source": [
    "# Let's create a function, f(n), that can solve the sum of all multiples of 3 and multiples of 5 below n\n",
    "\n",
    "def f(n):\n",
    "    #create variables to assist in creating lists\n",
    "    i=0\n",
    "    j=0\n",
    "    k=0\n",
    "    #create the lists of multiples\n",
    "    The3List=[i for i in range(1,n) if i%3==0]\n",
    "    The5List=[j for j in range(1,n) if j%5==0]\n",
    "    The15List=[k for k in range(1,n) if k%15==0]\n",
    "    #find the sum of each list\n",
    "    The3ListTotal = sum(The3List)\n",
    "    The5ListTotal = sum(The5List)\n",
    "    The15ListTotal = sum(The15List)\n",
    "    #write the equation leading to the final solution\n",
    "    FinalSolution = The3ListTotal + The5ListTotal - The15ListTotal\n",
    "    return FinalSolution "
   ]
  },
  {
   "cell_type": "code",
   "execution_count": 32,
   "metadata": {},
   "outputs": [
    {
     "data": {
      "text/plain": [
       "233168"
      ]
     },
     "execution_count": 32,
     "metadata": {},
     "output_type": "execute_result"
    }
   ],
   "source": [
    "# Now to test the function when n=1000\n",
    "f(1000)"
   ]
  },
  {
   "cell_type": "code",
   "execution_count": 33,
   "metadata": {},
   "outputs": [
    {
     "data": {
      "text/plain": [
       "931668"
      ]
     },
     "execution_count": 33,
     "metadata": {},
     "output_type": "execute_result"
    }
   ],
   "source": [
    "# Now let's try with a larger number\n",
    "f(2000)"
   ]
  },
  {
   "cell_type": "code",
   "execution_count": null,
   "metadata": {},
   "outputs": [],
   "source": []
  }
 ],
 "metadata": {
  "kernelspec": {
   "display_name": "Python 3",
   "language": "python",
   "name": "python3"
  },
  "language_info": {
   "codemirror_mode": {
    "name": "ipython",
    "version": 3
   },
   "file_extension": ".py",
   "mimetype": "text/x-python",
   "name": "python",
   "nbconvert_exporter": "python",
   "pygments_lexer": "ipython3",
   "version": "3.7.4"
  }
 },
 "nbformat": 4,
 "nbformat_minor": 2
}
