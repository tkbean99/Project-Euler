{
 "cells": [
  {
   "cell_type": "markdown",
   "metadata": {},
   "source": [
    "# Project Euler Problem 7 - 10001st Prime"
   ]
  },
  {
   "cell_type": "code",
   "execution_count": 2,
   "metadata": {},
   "outputs": [
    {
     "data": {
      "text/plain": [
       "'\\nBy listing the first six prime numbers: 2, 3, 5, 7, 11, and 13, we can see that the 6th prime is 13.\\nWhat is the 10001st prime number?\\n'"
      ]
     },
     "execution_count": 2,
     "metadata": {},
     "output_type": "execute_result"
    }
   ],
   "source": [
    "'''\n",
    "By listing the first six prime numbers: 2, 3, 5, 7, 11, and 13, we can see that the 6th prime is 13.\n",
    "What is the 10001st prime number?\n",
    "'''"
   ]
  },
  {
   "cell_type": "code",
   "execution_count": 3,
   "metadata": {},
   "outputs": [],
   "source": [
    "# Let's create a function that does the following steps\n",
    "# Step 1: Prime factorise a number\n",
    "# Step 2: Identify if the number factorised is a prime number\n",
    "# Step 3: If number is a prime, add it to a list\n",
    "# Step 4: Once the list has n terms, get the function to return the nth term\n",
    "\n",
    "# To make this function easier to read, let's first create a function that simply outputs the number of factors a number has\n",
    "def PrimeFactorise(test_number):\n",
    "    Dividend=test_number\n",
    "    Divisor=2\n",
    "    PrimeFactors=[]\n",
    "    # The while loop is set up to find all prime factors\n",
    "    while Dividend!=1:\n",
    "        if Dividend%Divisor==0:\n",
    "            # If the Dividend is divisible by the Divisor, then we have found a prime factor which we add to our list PrimeFactors\n",
    "            PrimeFactors.append(Divisor)\n",
    "            Quotient=Dividend/Divisor\n",
    "            # Set the Dividend variable as the Quotient\n",
    "            Dividend=Quotient\n",
    "        else:\n",
    "            #If the Dividend is not divisible by the current Divisor, we increase the value of the Divisor by 1\n",
    "            Divisor += 1\n",
    "    # Now, we will programme the function to return the number of factors\n",
    "    return len(PrimeFactors)"
   ]
  },
  {
   "cell_type": "code",
   "execution_count": 4,
   "metadata": {},
   "outputs": [],
   "source": [
    "# Now we will define a function that identifies prime numbers and adds them to a list and then returns the last term\n",
    "\n",
    "def TheNthPrimeFinder(n):\n",
    "    # Create a variable to hold each number we want to test\n",
    "    test_number=1\n",
    "    # Create a list to hold a list of all prime numbers up to the nth\n",
    "    PrimeNumbers=[]\n",
    "    # Create the loop which generates the list of prime numbers up to the nth term\n",
    "    while len(PrimeNumbers)<n:\n",
    "        test_number += 1\n",
    "        # Create a logical test to show if the test_number is a prime number. \n",
    "        # Since the function returns the number of prime factors, if the output of the function is 1, \n",
    "        # the test_number is only divisible by itself and 1 so it is a prime number\n",
    "        if PrimeFactorise(test_number)==1:\n",
    "            # If the output is 1, a prime number has been found, we add it to the list of all prime numbers \n",
    "            PrimeNumbers.append(test_number)\n",
    "    # For the final step, we want the function to return the nth prime number\n",
    "    return PrimeNumbers[-1]"
   ]
  },
  {
   "cell_type": "code",
   "execution_count": 8,
   "metadata": {},
   "outputs": [
    {
     "data": {
      "text/plain": [
       "13"
      ]
     },
     "execution_count": 8,
     "metadata": {},
     "output_type": "execute_result"
    }
   ],
   "source": [
    "# Test the function when n=6\n",
    "TheNthPrimeFinder(6)"
   ]
  },
  {
   "cell_type": "code",
   "execution_count": 9,
   "metadata": {},
   "outputs": [
    {
     "data": {
      "text/plain": [
       "541"
      ]
     },
     "execution_count": 9,
     "metadata": {},
     "output_type": "execute_result"
    }
   ],
   "source": [
    "# Now for the real deal\n",
    "TheNthPrimeFinder(10001)"
   ]
  },
  {
   "cell_type": "code",
   "execution_count": null,
   "metadata": {},
   "outputs": [],
   "source": []
  }
 ],
 "metadata": {
  "kernelspec": {
   "display_name": "Python 3",
   "language": "python",
   "name": "python3"
  },
  "language_info": {
   "codemirror_mode": {
    "name": "ipython",
    "version": 3
   },
   "file_extension": ".py",
   "mimetype": "text/x-python",
   "name": "python",
   "nbconvert_exporter": "python",
   "pygments_lexer": "ipython3",
   "version": "3.7.4"
  }
 },
 "nbformat": 4,
 "nbformat_minor": 2
}
