{
 "cells": [
  {
   "cell_type": "markdown",
   "metadata": {},
   "source": [
    "# Project Euler Problem 15 - Lattice paths"
   ]
  },
  {
   "cell_type": "code",
   "execution_count": 1,
   "metadata": {},
   "outputs": [
    {
     "data": {
      "text/plain": [
       "'\\nStarting in the top left corner of a 2×2 grid, and only being able to move to the right and down, \\nthere are exactly 6 routes to the bottom right corner.\\n\\nHow many such routes are there through a 20×20 grid?\\n'"
      ]
     },
     "execution_count": 1,
     "metadata": {},
     "output_type": "execute_result"
    }
   ],
   "source": [
    "'''\n",
    "Starting in the top left corner of a 2×2 grid, and only being able to move to the right and down, \n",
    "there are exactly 6 routes to the bottom right corner.\n",
    "\n",
    "How many such routes are there through a 20×20 grid?\n",
    "'''"
   ]
  },
  {
   "cell_type": "code",
   "execution_count": 9,
   "metadata": {},
   "outputs": [],
   "source": [
    "# A clever way to count the possible permutations and combinations is as follows\n",
    "# Let 1 step to the right be called 'r' and one step down be 'd'\n",
    "# I just need to find the number of ways to arrange 20 r's and 20 d's\n",
    "# Let's define a factorial function\n",
    "def factorial(x):\n",
    "    Product=1\n",
    "    for x in range (1,x+1):\n",
    "        Product = x*Product\n",
    "    return Product"
   ]
  },
  {
   "cell_type": "code",
   "execution_count": 13,
   "metadata": {},
   "outputs": [
    {
     "name": "stdout",
     "output_type": "stream",
     "text": [
      "137846528820\n"
     ]
    }
   ],
   "source": [
    "# To find the solution, I just need to do the following\n",
    "print(int(factorial(40)/(factorial(20))**2))"
   ]
  },
  {
   "cell_type": "code",
   "execution_count": null,
   "metadata": {},
   "outputs": [],
   "source": []
  }
 ],
 "metadata": {
  "kernelspec": {
   "display_name": "Python 3",
   "language": "python",
   "name": "python3"
  },
  "language_info": {
   "codemirror_mode": {
    "name": "ipython",
    "version": 3
   },
   "file_extension": ".py",
   "mimetype": "text/x-python",
   "name": "python",
   "nbconvert_exporter": "python",
   "pygments_lexer": "ipython3",
   "version": "3.7.4"
  }
 },
 "nbformat": 4,
 "nbformat_minor": 2
}
