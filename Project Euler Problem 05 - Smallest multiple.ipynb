{
 "cells": [
  {
   "cell_type": "markdown",
   "metadata": {},
   "source": [
    "# Project Euler Problem 5 - Smallest multiple"
   ]
  },
  {
   "cell_type": "code",
   "execution_count": 1,
   "metadata": {},
   "outputs": [
    {
     "data": {
      "text/plain": [
       "'\\n2520 is the smallest number that can be divided by each of the numbers from 1 to 10 without any remainder.\\nWhat is the smallest positive number that is evenly divisible by all of the numbers from 1 to 20?\\n'"
      ]
     },
     "execution_count": 1,
     "metadata": {},
     "output_type": "execute_result"
    }
   ],
   "source": [
    "'''\n",
    "2520 is the smallest number that can be divided by each of the numbers from 1 to 10 without any remainder.\n",
    "What is the smallest positive number that is evenly divisible by all of the numbers from 1 to 20?\n",
    "'''"
   ]
  },
  {
   "cell_type": "code",
   "execution_count": 7,
   "metadata": {},
   "outputs": [],
   "source": [
    "# Goal: Programme a general function that can find the LCM of a set of numbers from 1 to n\n",
    "# We are going to use brute force to find the LCM meaning create a loop to test every integer starting from 1 to see if it is the LCM\n",
    "\n",
    "def LCM_finder(n):\n",
    "    # First, I must create a variable that changes from false to true when the LCM is found\n",
    "    LCM_Indicator=False\n",
    "    # Second, a variable that determines if a number is divisible by a number from 1 to n\n",
    "    divisibility_indicator=True\n",
    "    # Third, a variable that temporarily holds values 1 to n\n",
    "    factor=1\n",
    "    # Fourth, a variable that holds the number being tested for LCM property\n",
    "    test_number=n\n",
    "    while LCM_Indicator==False:\n",
    "        while divisibility_indicator==True:\n",
    "            # I first set the parameters for when the LCM has been found\n",
    "            if factor==n and test_number%factor==0:\n",
    "                LCM_Indicator=True\n",
    "                # To stop the loop, we have to do the illogical and label divisibility_indicator as false\n",
    "                divisibility_indicator=False\n",
    "            # Otherwise, we will start running the tests to figure out if it is an LCM a.k.a test if a number is divisble by everything from 1 to n\n",
    "            elif test_number%factor==0:\n",
    "                factor += 1\n",
    "                divisibility_indicator=True\n",
    "                LCM_Indicator=False\n",
    "            # Once the number being tested for LCM property cannot be divided by a number from 1 to n, we try a new number\n",
    "            else:\n",
    "                test_number += 1\n",
    "                factor=1\n",
    "                LCM_Indicator=False\n",
    "    return test_number"
   ]
  },
  {
   "cell_type": "code",
   "execution_count": 9,
   "metadata": {},
   "outputs": [
    {
     "data": {
      "text/plain": [
       "2520"
      ]
     },
     "execution_count": 9,
     "metadata": {},
     "output_type": "execute_result"
    }
   ],
   "source": [
    "# First to test with 10\n",
    "LCM_finder(10)"
   ]
  },
  {
   "cell_type": "code",
   "execution_count": 10,
   "metadata": {},
   "outputs": [
    {
     "data": {
      "text/plain": [
       "232792560"
      ]
     },
     "execution_count": 10,
     "metadata": {},
     "output_type": "execute_result"
    }
   ],
   "source": [
    "# Now to test with 20\n",
    "LCM_finder(20)"
   ]
  },
  {
   "cell_type": "code",
   "execution_count": 11,
   "metadata": {},
   "outputs": [
    {
     "name": "stdout",
     "output_type": "stream",
     "text": [
      "232792560\n"
     ]
    }
   ],
   "source": [
    "# To ensure correct answer\n",
    "print(2*2*2*2*3*3*5*7*11*13*17*19)"
   ]
  },
  {
   "cell_type": "code",
   "execution_count": null,
   "metadata": {},
   "outputs": [],
   "source": []
  }
 ],
 "metadata": {
  "kernelspec": {
   "display_name": "Python 3",
   "language": "python",
   "name": "python3"
  },
  "language_info": {
   "codemirror_mode": {
    "name": "ipython",
    "version": 3
   },
   "file_extension": ".py",
   "mimetype": "text/x-python",
   "name": "python",
   "nbconvert_exporter": "python",
   "pygments_lexer": "ipython3",
   "version": "3.7.4"
  }
 },
 "nbformat": 4,
 "nbformat_minor": 2
}
