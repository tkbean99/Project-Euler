{
 "cells": [
  {
   "cell_type": "code",
   "execution_count": 2,
   "metadata": {},
   "outputs": [
    {
     "data": {
      "text/plain": [
       "'\\nThe prime factors of 13195 are 5, 7, 13 and 29.\\nWhat is the largest prime factor of the number 600851475143 ?\\n'"
      ]
     },
     "execution_count": 2,
     "metadata": {},
     "output_type": "execute_result"
    }
   ],
   "source": [
    "'''\n",
    "The prime factors of 13195 are 5, 7, 13 and 29.\n",
    "What is the largest prime factor of the number 600851475143 ?\n",
    "'''"
   ]
  },
  {
   "cell_type": "code",
   "execution_count": 3,
   "metadata": {},
   "outputs": [],
   "source": [
    "# Let's define a general function that can prime factorise any number, x\n",
    "# Step 1: Divide x by the smallest prime number possible. If it does not work move to the next smallest prime number.\n",
    "# Step 2:Once x is divisible by a prime number, we add it to a list \n",
    "# Step 3: Take the quotient and repeat steps 1 and 2\n",
    "\n",
    "def PrimeFactorise(x):\n",
    "    Dividend=x\n",
    "    Divisor=2\n",
    "    PrimeFactors=[]\n",
    "    # The while loop is set up to find all prime factors\n",
    "    while Dividend!=1:\n",
    "        if Dividend%Divisor==0:\n",
    "            # If the Dividend is divisible by the Divisor, then we have found a prime factor which we add to our list PrimeFactors\n",
    "            PrimeFactors.append(Divisor)\n",
    "            Quotient=Dividend/Divisor\n",
    "            # Set the Dividend variable as the Quotient\n",
    "            Dividend=Quotient\n",
    "        else:\n",
    "            #If the Dividend is not divisible by the current Divisor, we increase the value of the Divisor by 1\n",
    "            Divisor += 1\n",
    "    # Let's print the entire list of prime factors for our reference\n",
    "    print(PrimeFactors)\n",
    "    # Now, we will programme the function to return the largest prime number\n",
    "    return PrimeFactors[-1]\n"
   ]
  },
  {
   "cell_type": "code",
   "execution_count": 4,
   "metadata": {},
   "outputs": [
    {
     "name": "stdout",
     "output_type": "stream",
     "text": [
      "[5, 7, 13, 29]\n"
     ]
    },
    {
     "data": {
      "text/plain": [
       "29"
      ]
     },
     "execution_count": 4,
     "metadata": {},
     "output_type": "execute_result"
    }
   ],
   "source": [
    "# Let's test the function using x = 13195\n",
    "PrimeFactorise(13195)"
   ]
  },
  {
   "cell_type": "code",
   "execution_count": 5,
   "metadata": {},
   "outputs": [
    {
     "name": "stdout",
     "output_type": "stream",
     "text": [
      "[71, 839, 1471, 6857]\n"
     ]
    },
    {
     "data": {
      "text/plain": [
       "6857"
      ]
     },
     "execution_count": 5,
     "metadata": {},
     "output_type": "execute_result"
    }
   ],
   "source": [
    "# Now, to answer the original problem. When x=600851475143\n",
    "PrimeFactorise(600851475143)"
   ]
  },
  {
   "cell_type": "code",
   "execution_count": 6,
   "metadata": {},
   "outputs": [
    {
     "name": "stdout",
     "output_type": "stream",
     "text": [
      "[2, 2, 5659, 38119]\n"
     ]
    },
    {
     "data": {
      "text/plain": [
       "38119"
      ]
     },
     "execution_count": 6,
     "metadata": {},
     "output_type": "execute_result"
    }
   ],
   "source": [
    "PrimeFactorise(862861684)"
   ]
  },
  {
   "cell_type": "code",
   "execution_count": null,
   "metadata": {},
   "outputs": [],
   "source": []
  }
 ],
 "metadata": {
  "kernelspec": {
   "display_name": "Python 3",
   "language": "python",
   "name": "python3"
  },
  "language_info": {
   "codemirror_mode": {
    "name": "ipython",
    "version": 3
   },
   "file_extension": ".py",
   "mimetype": "text/x-python",
   "name": "python",
   "nbconvert_exporter": "python",
   "pygments_lexer": "ipython3",
   "version": "3.7.4"
  }
 },
 "nbformat": 4,
 "nbformat_minor": 2
}
