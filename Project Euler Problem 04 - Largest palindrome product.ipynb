{
 "cells": [
  {
   "cell_type": "markdown",
   "metadata": {},
   "source": [
    "# Project Euler Problem 4 - Largest palindrome product"
   ]
  },
  {
   "cell_type": "code",
   "execution_count": 19,
   "metadata": {},
   "outputs": [
    {
     "data": {
      "text/plain": [
       "'\\nA palindromic number reads the same both ways. \\nThe largest palindrome made from the product of two 2-digit numbers is 9009 = 91 × 99.\\nFind the largest palindrome made from the product of two 3-digit numbers.\\n'"
      ]
     },
     "execution_count": 19,
     "metadata": {},
     "output_type": "execute_result"
    }
   ],
   "source": [
    "'''\n",
    "A palindromic number reads the same both ways. \n",
    "The largest palindrome made from the product of two 2-digit numbers is 9009 = 91 × 99.\n",
    "Find the largest palindrome made from the product of two 3-digit numbers.\n",
    "'''"
   ]
  },
  {
   "cell_type": "code",
   "execution_count": 20,
   "metadata": {},
   "outputs": [
    {
     "name": "stdout",
     "output_type": "stream",
     "text": [
      "99\n",
      "91\n",
      "9009\n"
     ]
    }
   ],
   "source": [
    "# First, let's create a sequence of steps that allows us to find the largest palindrome product of two digit numbers\n",
    "# We will let x and y be our two unknown two-digit numbers\n",
    "# General idea: We let x start at the largest 2D number, 99, and multiply it by different 2D values of y in decreasing order from 99\n",
    "# If no palindrome product is found, we decrease the value of x by 1, reset y to 99 and repeat\n",
    "\n",
    "# Set x and y to be variables starting at 99\n",
    "x=99\n",
    "y=99\n",
    "# Create a variable that changes from false to true once a palindrome product is found\n",
    "PalindromeIndicator=False\n",
    "while PalindromeIndicator==False:\n",
    "    Product=x*y\n",
    "    # Now we create a step that turns the product from an integer to a string which allows for slicing/reversing the characters\n",
    "    Str_Product=str(Product)\n",
    "    # Now we find the result of reversing the characters of the string found earlier\n",
    "    Reverse_Str_Product=Str_Product[::-1]\n",
    "    # Once y<10, we need to decrease x by 1 and reset y back to 99\n",
    "    if y<10:\n",
    "        x -= 1\n",
    "        y=99\n",
    "    # The below lines check if a palindrome has been found\n",
    "    if Reverse_Str_Product==Str_Product:\n",
    "        PalindromeIndicator=True\n",
    "    else:\n",
    "        PalindromeIndicator=False\n",
    "        #If no palindrome has been found, the value of y is decreased by one and the while loop starts again\n",
    "        y -= 1\n",
    "\n",
    "print(x)\n",
    "print(y)\n",
    "print(x*y)"
   ]
  },
  {
   "cell_type": "code",
   "execution_count": 1,
   "metadata": {},
   "outputs": [],
   "source": [
    "# Now we modify some numbers to allow this sequence of steps to accomodate 3-digit numbers\n",
    "# Set x and y to 999 instead of 99\n",
    "def p(z):\n",
    "    x=999\n",
    "    y=999\n",
    "\n",
    "    PalindromeIndicator=False\n",
    "    while PalindromeIndicator==False:\n",
    "        Product=x*y\n",
    "        Str_Product=str(Product)\n",
    "        Reverse_Str_Product=Str_Product[::-1]\n",
    "        # Instead of decreasing the value of x when y<10, we now decrease it when y<100\n",
    "        if y<100:\n",
    "            x -= 1\n",
    "            # Set y to 999 instead of 99\n",
    "            y=999\n",
    "        if Reverse_Str_Product==Str_Product:\n",
    "        PalindromeIndicator=True\n",
    "    else:\n",
    "        PalindromeIndicator=False\n",
    "        y -= 1\n",
    "\n",
    "print(x)\n",
    "print(y)\n",
    "print(x*y)"
   ]
  },
  {
   "cell_type": "code",
   "execution_count": 22,
   "metadata": {},
   "outputs": [
    {
     "name": "stdout",
     "output_type": "stream",
     "text": [
      "9999\n",
      "9901\n",
      "99000099\n"
     ]
    }
   ],
   "source": [
    "# Let's have some fun and go up to 4-digit numbers\n",
    "x=9999\n",
    "y=9999\n",
    "\n",
    "PalindromeIndicator=False\n",
    "while PalindromeIndicator==False:\n",
    "    Product=x*y\n",
    "    Str_Product=str(Product)\n",
    "    Reverse_Str_Product=Str_Product[::-1]\n",
    "    # Instead of decreasing the value of x when y<10 or y<100, we now decrease it when y<1000\n",
    "    if y<100:\n",
    "        x -= 1\n",
    "        # Set y to 9999 instead of 99 or 999\n",
    "        y=9999\n",
    "    if Reverse_Str_Product==Str_Product:\n",
    "        PalindromeIndicator=True\n",
    "    else:\n",
    "        PalindromeIndicator=False\n",
    "        y -= 1\n",
    "\n",
    "print(x)\n",
    "print(y)\n",
    "print(x*y)"
   ]
  },
  {
   "cell_type": "code",
   "execution_count": null,
   "metadata": {},
   "outputs": [],
   "source": []
  }
 ],
 "metadata": {
  "kernelspec": {
   "display_name": "Python 3",
   "language": "python",
   "name": "python3"
  },
  "language_info": {
   "codemirror_mode": {
    "name": "ipython",
    "version": 3
   },
   "file_extension": ".py",
   "mimetype": "text/x-python",
   "name": "python",
   "nbconvert_exporter": "python",
   "pygments_lexer": "ipython3",
   "version": "3.7.4"
  }
 },
 "nbformat": 4,
 "nbformat_minor": 2
}
