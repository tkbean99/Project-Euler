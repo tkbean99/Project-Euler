{
 "cells": [
  {
   "cell_type": "markdown",
   "metadata": {},
   "source": [
    "# Project Euler Problem 14 -Longest Collatz sequence"
   ]
  },
  {
   "cell_type": "code",
   "execution_count": null,
   "metadata": {},
   "outputs": [],
   "source": [
    "'''\n",
    "The following iterative sequence is defined for the set of positive integers:\n",
    "n → n/2 (n is even)\n",
    "n → 3n + 1 (n is odd)\n",
    "Using the rule above and starting with 13, we generate the following sequence:\n",
    "13 → 40 → 20 → 10 → 5 → 16 → 8 → 4 → 2 → 1\n",
    "It can be seen that this sequence (starting at 13 and finishing at 1) contains 10 terms. Although it has not been proved yet (Collatz Problem), it is thought that all starting numbers finish at 1.\n",
    "Which starting number, under one million, produces the longest chain?\n",
    "NOTE: Once the chain starts the terms are allowed to go above one million.\n",
    "'''"
   ]
  },
  {
   "cell_type": "code",
   "execution_count": 26,
   "metadata": {},
   "outputs": [],
   "source": [
    "# I tried coding everything at once and realised that was difficult and confusing\n",
    "# Let's start by making a function that can generate a Collatz sequence. The input is the number that begins the sequence\n",
    "def Collatz_generator(x):\n",
    "    # Create a list to hold our Collatz_sequence. It holds our initial number\n",
    "    Collatz_sequence=[x]\n",
    "    # Create a variable to temporarily hold each new term in our Collatz sequence\n",
    "    y=x\n",
    "    # Create an indicator for our while loop to tell the loop when to stop\n",
    "    Collatz_end_indicator=False\n",
    "    # Start while loop\n",
    "    while Collatz_end_indicator==False:\n",
    "        # Set x to be the previous term. Initially, y is the initial term which is defined before the loop\n",
    "        x=y\n",
    "        # Set a test to check if the sequence has ended at 1\n",
    "        if x==1:\n",
    "            Collatz_length=len(Collatz_sequence)\n",
    "            Collatz_end_indicator=True\n",
    "        # Check if the number is even and divide by 2 for the next number in the sequence\n",
    "        elif x%2==0:\n",
    "            y=int(x/2)\n",
    "            Collatz_sequence.append(y)\n",
    "            Collatz_end_indicator=False\n",
    "        # If the number is not even, check that it is odd and follow the Collatz sequence rules accordingly\n",
    "        elif x%2>0:\n",
    "            y=int(x*3+1)\n",
    "            Collatz_sequence.append(y)\n",
    "            Collatz_end_indicator=False\n",
    "    # return\n",
    "    return Collatz_length      "
   ]
  },
  {
   "cell_type": "code",
   "execution_count": 27,
   "metadata": {},
   "outputs": [
    {
     "data": {
      "text/plain": [
       "10"
      ]
     },
     "execution_count": 27,
     "metadata": {},
     "output_type": "execute_result"
    }
   ],
   "source": [
    "# Let's test the function\n",
    "Collatz_generator(13)"
   ]
  },
  {
   "cell_type": "code",
   "execution_count": 29,
   "metadata": {},
   "outputs": [
    {
     "name": "stdout",
     "output_type": "stream",
     "text": [
      "525\n",
      "837799\n"
     ]
    }
   ],
   "source": [
    "# Now that we have a function that can generate the terms in a Collatz sequence and count the number of terms\n",
    "# We will create a loop to generate Collatz sequences starting with numbers 1 to 1 million and compare the number of terms\n",
    "greatest_terms=0\n",
    "n=1\n",
    "best_start=0\n",
    "# start a loop to look through multiple Collatz sequences\n",
    "while n<1000000:\n",
    "    # Add 1 to n to start a new sequence\n",
    "    n += 1\n",
    "    # Add a test to check if the sequence with the greatest number of terms has been found. \n",
    "    # The sequence with the greatest number of terms thus far then has its number of terms and the initial number stored\n",
    "    if Collatz_generator(n)>greatest_terms:\n",
    "        greatest_terms=Collatz_generator(n)\n",
    "        best_start=n\n",
    "# Output the initial number and the number of terms of the Collatz sequence with the greatest number of terms\n",
    "print(greatest_terms)\n",
    "print(best_start)"
   ]
  },
  {
   "cell_type": "code",
   "execution_count": null,
   "metadata": {},
   "outputs": [],
   "source": []
  }
 ],
 "metadata": {
  "kernelspec": {
   "display_name": "Python 3",
   "language": "python",
   "name": "python3"
  },
  "language_info": {
   "codemirror_mode": {
    "name": "ipython",
    "version": 3
   },
   "file_extension": ".py",
   "mimetype": "text/x-python",
   "name": "python",
   "nbconvert_exporter": "python",
   "pygments_lexer": "ipython3",
   "version": "3.7.4"
  }
 },
 "nbformat": 4,
 "nbformat_minor": 2
}
