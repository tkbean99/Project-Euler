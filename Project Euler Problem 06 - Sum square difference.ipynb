{
 "cells": [
  {
   "cell_type": "markdown",
   "metadata": {},
   "source": [
    "# Project Euler Problem 6 - Sum square difference"
   ]
  },
  {
   "cell_type": "code",
   "execution_count": 2,
   "metadata": {
    "collapsed": true
   },
   "outputs": [
    {
     "data": {
      "text/plain": [
       "'\\nThe sum of the squares of the first ten natural numbers is,\\n1^2+2^2+...+10^2=385\\nThe square of the sum of the first ten natural numbers is,\\n(1+2+...+10)^2=55^2=3025\\nHence the difference between the sum of the squares of the first ten natural numbers and the square of the sum is \\n3025−385=2640.\\nFind the difference between the sum of the squares of the first one hundred natural numbers and the square of the sum.\\n'"
      ]
     },
     "execution_count": 2,
     "metadata": {},
     "output_type": "execute_result"
    }
   ],
   "source": [
    "'''\n",
    "The sum of the squares of the first ten natural numbers is,\n",
    "1^2+2^2+...+10^2=385\n",
    "The square of the sum of the first ten natural numbers is,\n",
    "(1+2+...+10)^2=55^2=3025\n",
    "Hence the difference between the sum of the squares of the first ten natural numbers and the square of the sum is \n",
    "3025−385=2640.\n",
    "Find the difference between the sum of the squares of the first one hundred natural numbers and the square of the sum.\n",
    "'''"
   ]
  },
  {
   "cell_type": "code",
   "execution_count": 19,
   "metadata": {},
   "outputs": [],
   "source": [
    "# We are going to generate a general function which creates a list of the sum of the squares of numbers from 1 to x\n",
    "# Then the function creates a list that finds the square of the sum of numbers 1 to x\n",
    "# And then the function will return the difference\n",
    "\n",
    "def f(x):\n",
    "    # Create list with sum of the squares of 1 to x\n",
    "    Summed_Squares_List=[a**2 for a in range (1,x+1)]\n",
    "    # Create list with the square of the sum of the numbers 1 to x\n",
    "    Squared_Sum_List=[b for b in range (1,x+1)]\n",
    "    # Find the sum of the first list\n",
    "    Summed_Squares=sum(Summed_Squares_List)\n",
    "    # Find the sum of the second list\n",
    "    Squared_Sum =(sum(Squared_Sum_List))**2\n",
    "    # Return the difference between the 2\n",
    "    return Squared_Sum-Summed_Squares"
   ]
  },
  {
   "cell_type": "code",
   "execution_count": 20,
   "metadata": {},
   "outputs": [
    {
     "data": {
      "text/plain": [
       "2640"
      ]
     },
     "execution_count": 20,
     "metadata": {},
     "output_type": "execute_result"
    }
   ],
   "source": [
    "#Test it with 10\n",
    "f(10)"
   ]
  },
  {
   "cell_type": "code",
   "execution_count": 21,
   "metadata": {},
   "outputs": [
    {
     "data": {
      "text/plain": [
       "25164150"
      ]
     },
     "execution_count": 21,
     "metadata": {},
     "output_type": "execute_result"
    }
   ],
   "source": [
    "# Test it with 100 to solve the problem\n",
    "f(100)"
   ]
  },
  {
   "cell_type": "code",
   "execution_count": 22,
   "metadata": {},
   "outputs": [
    {
     "data": {
      "text/plain": [
       "250166416500"
      ]
     },
     "execution_count": 22,
     "metadata": {},
     "output_type": "execute_result"
    }
   ],
   "source": [
    "# Test it with 1000 to solve the problem\n",
    "f(1000)"
   ]
  },
  {
   "cell_type": "code",
   "execution_count": null,
   "metadata": {},
   "outputs": [],
   "source": []
  }
 ],
 "metadata": {
  "kernelspec": {
   "display_name": "Python 3",
   "language": "python",
   "name": "python3"
  },
  "language_info": {
   "codemirror_mode": {
    "name": "ipython",
    "version": 3
   },
   "file_extension": ".py",
   "mimetype": "text/x-python",
   "name": "python",
   "nbconvert_exporter": "python",
   "pygments_lexer": "ipython3",
   "version": "3.7.4"
  }
 },
 "nbformat": 4,
 "nbformat_minor": 2
}
